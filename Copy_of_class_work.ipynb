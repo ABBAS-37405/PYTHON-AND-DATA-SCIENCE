{
  "nbformat": 4,
  "nbformat_minor": 0,
  "metadata": {
    "colab": {
      "provenance": [],
      "authorship_tag": "ABX9TyOHdO3aCpBpc9qs2I8SecK6",
      "include_colab_link": true
    },
    "kernelspec": {
      "name": "python3",
      "display_name": "Python 3"
    },
    "language_info": {
      "name": "python"
    }
  },
  "cells": [
    {
      "cell_type": "markdown",
      "metadata": {
        "id": "view-in-github",
        "colab_type": "text"
      },
      "source": [
        "<a href=\"https://colab.research.google.com/github/ABBAS-37405/PYTHON-AND-DATA-SCIENCE/blob/main/Copy_of_class_work.ipynb\" target=\"_parent\"><img src=\"https://colab.research.google.com/assets/colab-badge.svg\" alt=\"Open In Colab\"/></a>"
      ]
    },
    {
      "cell_type": "code",
      "execution_count": null,
      "metadata": {
        "id": "AfWkAB9NVM0Q"
      },
      "outputs": [],
      "source": []
    },
    {
      "cell_type": "markdown",
      "source": [
        "# ARITHMETIC OPERATORS"
      ],
      "metadata": {
        "id": "86s8mzGhVd62"
      }
    },
    {
      "cell_type": "code",
      "source": [
        "#SUM OF TWO NOS.\n",
        "print(\"Hello World \")"
      ],
      "metadata": {
        "colab": {
          "base_uri": "https://localhost:8080/"
        },
        "collapsed": true,
        "id": "B30KKdhVV1Lk",
        "outputId": "c6c08ae2-f70e-49e2-9b2a-47a53fef6c52"
      },
      "execution_count": null,
      "outputs": [
        {
          "output_type": "stream",
          "name": "stdout",
          "text": [
            "Hello World \n"
          ]
        }
      ]
    },
    {
      "cell_type": "code",
      "source": [
        "\"\"\" this program is evaluating\n",
        "the basic arithmetic operations\n",
        "of two given numbers\n",
        "\"\"\"\n",
        "num_1=6\n",
        "num_2=4\n",
        "sum=num_1+num_2\n",
        "prod=num_1*num_2\n",
        "sub=num_1-num_2\n",
        "div=num_1/num_2\n",
        "fdiv=num_1//num_2\n",
        "mod=num_1%num_2\n",
        "print(\"sum =\",sum)\n",
        "print(\"prod =\",prod)\n",
        "print(\"sub =\",sub)\n",
        "print(\"div =\",div)\n",
        "print(\"fdiv =\",fdiv)\n",
        "print(\"mod =\",mod)"
      ],
      "metadata": {
        "colab": {
          "base_uri": "https://localhost:8080/"
        },
        "id": "lZlMBE3DWe08",
        "outputId": "90a49ee4-34e9-40f2-ccb0-d34977f68442"
      },
      "execution_count": null,
      "outputs": [
        {
          "output_type": "stream",
          "name": "stdout",
          "text": [
            "sum = 10\n",
            "prod = 24\n",
            "sub = 2\n",
            "div = 1.5\n",
            "fdiv = 1\n",
            "mod = 2\n"
          ]
        }
      ]
    },
    {
      "cell_type": "code",
      "source": [
        "\"\"\" user input \"\"\"\n",
        "num_1=int(input(\"enter the first number : \"))\n",
        "num_2=int(input(\"enter the second number : \"))\n",
        "sum=num_1+num_2\n",
        "prod=num_1*num_2\n",
        "sub=num_1-num_2\n",
        "div=num_1/num_2\n",
        "fdiv=num_1//num_2\n",
        "mod=num_1%num_2\n",
        "print(\"sum =\",sum)\n",
        "print(\"prod =\",prod)\n",
        "print(\"sub =\",sub)\n",
        "print(\"div =\",div)\n",
        "print(\"fdiv =\",fdiv)\n",
        "print(\"mod =\",mod)"
      ],
      "metadata": {
        "colab": {
          "base_uri": "https://localhost:8080/"
        },
        "id": "GY8A0_oeY0PX",
        "outputId": "ab6b4ebc-4cb7-497f-b1b3-81ec2caa5c58"
      },
      "execution_count": null,
      "outputs": [
        {
          "output_type": "stream",
          "name": "stdout",
          "text": [
            "enter the first number : 33\n",
            "enter the second number : 22\n",
            "sum = 55\n",
            "prod = 726\n",
            "sub = 11\n",
            "div = 1.5\n",
            "fdiv = 1\n",
            "mod = 11\n"
          ]
        }
      ]
    },
    {
      "cell_type": "markdown",
      "source": [
        "### STRING INPUT AND OUTPUT"
      ],
      "metadata": {
        "id": "b3tlM4k8bgkV"
      }
    },
    {
      "cell_type": "code",
      "source": [
        "# enter your name example\n",
        "name=input(\"enter your name : \")\n",
        "print(\"hello  \"+ name + \"  EID MUBARIK \")"
      ],
      "metadata": {
        "colab": {
          "base_uri": "https://localhost:8080/"
        },
        "id": "W5sxSsYRbpvL",
        "outputId": "2feff5ba-80b6-4183-fb26-6e8366379739"
      },
      "execution_count": null,
      "outputs": [
        {
          "output_type": "stream",
          "name": "stdout",
          "text": [
            "enter your name : ZAINAB BIBI\n",
            "hello  ZAINAB BIBI  EID MUBARIK \n"
          ]
        }
      ]
    },
    {
      "cell_type": "code",
      "source": [],
      "metadata": {
        "id": "Qu7qNwEmYbiR"
      },
      "execution_count": null,
      "outputs": []
    }
  ]
}