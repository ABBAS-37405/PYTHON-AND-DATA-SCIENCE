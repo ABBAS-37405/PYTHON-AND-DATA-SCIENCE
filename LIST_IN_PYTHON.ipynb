{
  "nbformat": 4,
  "nbformat_minor": 0,
  "metadata": {
    "colab": {
      "provenance": [],
      "authorship_tag": "ABX9TyNqNV8Nf8LPLZN1jcEhU+9k",
      "include_colab_link": true
    },
    "kernelspec": {
      "name": "python3",
      "display_name": "Python 3"
    },
    "language_info": {
      "name": "python"
    }
  },
  "cells": [
    {
      "cell_type": "markdown",
      "metadata": {
        "id": "view-in-github",
        "colab_type": "text"
      },
      "source": [
        "<a href=\"https://colab.research.google.com/github/ABBAS-37405/PYTHON-AND-DATA-SCIENCE/blob/main/LIST_IN_PYTHON.ipynb\" target=\"_parent\"><img src=\"https://colab.research.google.com/assets/colab-badge.svg\" alt=\"Open In Colab\"/></a>"
      ]
    },
    {
      "cell_type": "markdown",
      "source": [
        "# **USE OF LIST DATA TYPE IN PYTHON**"
      ],
      "metadata": {
        "id": "VL4Jaq7vIYbt"
      }
    },
    {
      "cell_type": "code",
      "execution_count": null,
      "metadata": {
        "id": "x6iWPV1fIXlf"
      },
      "outputs": [],
      "source": []
    },
    {
      "cell_type": "markdown",
      "metadata": {
        "id": "46c31e23"
      },
      "source": [
        "# Task\n",
        "Explain Python lists and their operations (add, remove, etc.) with examples, demonstrating each operation in a separate cell with its output."
      ]
    },
    {
      "cell_type": "markdown",
      "metadata": {
        "id": "e7ca65e0"
      },
      "source": [
        "## Introduce lists\n",
        "\n",
        "### Subtask:\n",
        "Create a new cell to introduce what lists are and how to create them.\n"
      ]
    },
    {
      "cell_type": "markdown",
      "metadata": {
        "id": "d38a2dd6"
      },
      "source": [
        "**Reasoning**:\n",
        "The subtask is to create a new cell to introduce what lists are and how to create them. This involves adding a markdown comment and then creating and printing a Python list. All of these steps can be completed within a single code block.\n",
        "\n"
      ]
    },
    {
      "cell_type": "code",
      "metadata": {
        "colab": {
          "base_uri": "https://localhost:8080/"
        },
        "id": "edcaad1e",
        "outputId": "decea2a2-0b8e-4993-98b1-8761bff44e9f"
      },
      "source": [
        "# Python lists are ordered collections of items that are mutable, meaning their elements can be changed after creation.\n",
        "# They can contain elements of different data types.\n",
        "\n",
        "my_list = [1, 'hello', 3.14, True, [1, 2]]\n",
        "print(my_list)"
      ],
      "execution_count": 1,
      "outputs": [
        {
          "output_type": "stream",
          "name": "stdout",
          "text": [
            "[1, 'hello', 3.14, True, [1, 2]]\n"
          ]
        }
      ]
    },
    {
      "cell_type": "markdown",
      "metadata": {
        "id": "2c3d87f4"
      },
      "source": [
        "## Demonstrate adding elements\n",
        "\n",
        "### Subtask:\n",
        "Demonstrate adding elements to a list using `append()`, `insert()`, and `extend()`.\n"
      ]
    },
    {
      "cell_type": "markdown",
      "metadata": {
        "id": "0244672a"
      },
      "source": [
        "**Reasoning**:\n",
        "The subtask requires demonstrating how to add elements to a list using `append()`, `insert()`, and `extend()`. This can be done by creating a list, then applying each method in sequence and printing the list after each operation.\n",
        "\n"
      ]
    },
    {
      "cell_type": "code",
      "metadata": {
        "colab": {
          "base_uri": "https://localhost:8080/"
        },
        "id": "fa7fd18d",
        "outputId": "fad47b33-eb73-4538-fee4-9d7f595ed885"
      },
      "source": [
        "# Define a list\n",
        "my_list = [1, 2, 3]\n",
        "print(\"Original list:\", my_list)\n",
        "\n",
        "# Use append() to add a single element to the end\n",
        "my_list.append(4)\n",
        "print(\"After append(4):\", my_list)\n",
        "\n",
        "# Use insert() to add an element at a specific index\n",
        "my_list.insert(1, 'hello')\n",
        "print(\"After insert(1, 'hello'):\", my_list)\n",
        "\n",
        "# Define another list\n",
        "another_list = [5, 6]\n",
        "\n",
        "# Use extend() to add all elements from another list\n",
        "my_list.extend(another_list)\n",
        "print(\"After extend([5, 6]):\", my_list)"
      ],
      "execution_count": 2,
      "outputs": [
        {
          "output_type": "stream",
          "name": "stdout",
          "text": [
            "Original list: [1, 2, 3]\n",
            "After append(4): [1, 2, 3, 4]\n",
            "After insert(1, 'hello'): [1, 'hello', 2, 3, 4]\n",
            "After extend([5, 6]): [1, 'hello', 2, 3, 4, 5, 6]\n"
          ]
        }
      ]
    },
    {
      "cell_type": "markdown",
      "metadata": {
        "id": "87868ef0"
      },
      "source": [
        "## Demonstrate removing elements\n",
        "\n",
        "### Subtask:\n",
        "Demonstrate removing elements from a list using `remove()`, `pop()`, and `del`.\n"
      ]
    },
    {
      "cell_type": "markdown",
      "metadata": {
        "id": "7879b760"
      },
      "source": [
        "**Reasoning**:\n",
        "Demonstrate removing elements from a list using `remove()`, `pop()`, and `del` by following the instructions.\n",
        "\n"
      ]
    },
    {
      "cell_type": "code",
      "metadata": {
        "colab": {
          "base_uri": "https://localhost:8080/"
        },
        "id": "8a6fac49",
        "outputId": "68c4ce4f-65f5-4fe4-b3ce-c6373b359ca8"
      },
      "source": [
        "# 1. Initialize a list with some elements\n",
        "my_list = [10, 20, 30, 40, 50, 30]\n",
        "\n",
        "# 2. Print the original list\n",
        "print(\"Original list:\", my_list)\n",
        "\n",
        "# 3. Use remove() to remove the first occurrence of a specific value (e.g., 30)\n",
        "my_list.remove(30)\n",
        "\n",
        "# 4. Print the list after using remove()\n",
        "print(\"After remove(30):\", my_list)\n",
        "\n",
        "# 5. Use pop() to remove and return the element at a specific index (e.g., index 2)\n",
        "removed_element = my_list.pop(2)\n",
        "\n",
        "# 6. Print the list after using pop() and also print the element that was removed\n",
        "print(\"After pop(2):\", my_list)\n",
        "print(\"Removed element using pop():\", removed_element)\n",
        "\n",
        "# 7. Use del to remove a slice of elements from the list (e.g., elements from index 0 to 2)\n",
        "del my_list[0:2]\n",
        "\n",
        "# 8. Print the list after using del\n",
        "print(\"After del my_list[0:2]:\", my_list)"
      ],
      "execution_count": 3,
      "outputs": [
        {
          "output_type": "stream",
          "name": "stdout",
          "text": [
            "Original list: [10, 20, 30, 40, 50, 30]\n",
            "After remove(30): [10, 20, 40, 50, 30]\n",
            "After pop(2): [10, 20, 50, 30]\n",
            "Removed element using pop(): 40\n",
            "After del my_list[0:2]: [50, 30]\n"
          ]
        }
      ]
    },
    {
      "cell_type": "markdown",
      "metadata": {
        "id": "4bceec61"
      },
      "source": [
        "## Demonstrate accessing and slicing\n",
        "\n",
        "### Subtask:\n",
        "Create cells to show how to access elements using indexing and slicing.\n"
      ]
    },
    {
      "cell_type": "markdown",
      "metadata": {
        "id": "442a1eb7"
      },
      "source": [
        "**Reasoning**:\n",
        "Create a list with different data types and demonstrate accessing elements using indexing and slicing as requested.\n",
        "\n"
      ]
    },
    {
      "cell_type": "code",
      "metadata": {
        "colab": {
          "base_uri": "https://localhost:8080/"
        },
        "id": "b8a26e2b",
        "outputId": "517b8882-4055-482a-8f59-c3c4ece1538c"
      },
      "source": [
        "# Create a list named my_list with at least 5 elements of different data types.\n",
        "my_list = [100, 'Python', 99.5, False, [1, 2, 3], 'end']\n",
        "print(\"Initial list:\", my_list)\n",
        "\n",
        "# Access and print the element at index 0.\n",
        "print(\"Element at index 0:\", my_list[0])\n",
        "\n",
        "# Access and print the element at the last index using negative indexing.\n",
        "print(\"Element at last index:\", my_list[-1])\n",
        "\n",
        "# Access and print a slice of the list from index 1 up to (but not including) index 4.\n",
        "print(\"Slice from index 1 to 4:\", my_list[1:4])\n",
        "\n",
        "# Access and print a slice of the list from the beginning up to (but not including) index 3.\n",
        "print(\"Slice from beginning to index 3:\", my_list[:3])\n",
        "\n",
        "# Access and print a slice of the list from index 2 to the end.\n",
        "print(\"Slice from index 2 to end:\", my_list[2:])"
      ],
      "execution_count": 4,
      "outputs": [
        {
          "output_type": "stream",
          "name": "stdout",
          "text": [
            "Initial list: [100, 'Python', 99.5, False, [1, 2, 3], 'end']\n",
            "Element at index 0: 100\n",
            "Element at last index: end\n",
            "Slice from index 1 to 4: ['Python', 99.5, False]\n",
            "Slice from beginning to index 3: [100, 'Python', 99.5]\n",
            "Slice from index 2 to end: [99.5, False, [1, 2, 3], 'end']\n"
          ]
        }
      ]
    },
    {
      "cell_type": "markdown",
      "metadata": {
        "id": "26927708"
      },
      "source": [
        "## Demonstrate other methods\n",
        "\n",
        "### Subtask:\n",
        "Create cells to show `len()`, `index()`, `count()`, `sort()`, and `reverse()`.\n"
      ]
    },
    {
      "cell_type": "markdown",
      "metadata": {
        "id": "6c48b889"
      },
      "source": [
        "**Reasoning**:\n",
        "Initialize a list with duplicate and sortable elements and then demonstrate the usage of `len()`, `index()`, `count()`, `sort()`, and `reverse()` on this list, printing the result after each operation.\n",
        "\n"
      ]
    },
    {
      "cell_type": "code",
      "metadata": {
        "colab": {
          "base_uri": "https://localhost:8080/"
        },
        "id": "4b9f77a2",
        "outputId": "f9eb79ea-ccde-4157-dd3e-e1236fc4a512"
      },
      "source": [
        "# 1. Initialize a list with some duplicate elements and elements that can be sorted.\n",
        "my_list = [10, 50, 20, 30, 50, 40, 10, 20]\n",
        "print(\"Original list:\", my_list)\n",
        "\n",
        "# 2. Print the length of the list using len().\n",
        "print(\"Length of the list:\", len(my_list))\n",
        "\n",
        "# 3. Find and print the index of a specific element using index().\n",
        "# This will find the index of the first occurrence of 50.\n",
        "print(\"Index of the first occurrence of 50:\", my_list.index(50))\n",
        "\n",
        "# 4. Count and print the number of occurrences of a specific element using count().\n",
        "print(\"Number of occurrences of 10:\", my_list.count(10))\n",
        "\n",
        "# 5. Sort the list in ascending order using sort() and print the sorted list.\n",
        "my_list.sort()\n",
        "print(\"List after sorting:\", my_list)\n",
        "\n",
        "# 6. Reverse the order of the elements in the list using reverse() and print the reversed list.\n",
        "my_list.reverse()\n",
        "print(\"List after reversing:\", my_list)"
      ],
      "execution_count": 5,
      "outputs": [
        {
          "output_type": "stream",
          "name": "stdout",
          "text": [
            "Original list: [10, 50, 20, 30, 50, 40, 10, 20]\n",
            "Length of the list: 8\n",
            "Index of the first occurrence of 50: 1\n",
            "Number of occurrences of 10: 2\n",
            "List after sorting: [10, 10, 20, 20, 30, 40, 50, 50]\n",
            "List after reversing: [50, 50, 40, 30, 20, 20, 10, 10]\n"
          ]
        }
      ]
    },
    {
      "cell_type": "markdown",
      "metadata": {
        "id": "b54da1dc"
      },
      "source": [
        "## Summary:\n",
        "\n",
        "### Data Analysis Key Findings\n",
        "\n",
        "*   Python lists are ordered and mutable collections that can hold elements of different data types, created using square brackets `[]`.\n",
        "*   Elements can be added to a list using `append()` (adds to the end), `insert()` (adds at a specific index), and `extend()` (adds elements from another iterable).\n",
        "*   Elements can be removed using `remove()` (removes the first occurrence of a value), `pop()` (removes and returns the element at a specific index), and `del` (removes elements by index or slice).\n",
        "*   Individual elements can be accessed using zero-based indexing (e.g., `my_list[0]`) and negative indexing (e.g., `my_list[-1]` for the last element).\n",
        "*   Slices of a list can be accessed using the syntax `[start:stop:step]`, where `stop` is exclusive.\n",
        "*   The length of a list can be found using `len()`.\n",
        "*   The index of the first occurrence of an element can be found using `index()`.\n",
        "*   The number of occurrences of an element can be counted using `count()`.\n",
        "*   A list can be sorted in ascending order in-place using `sort()`.\n",
        "*   The order of elements in a list can be reversed in-place using `reverse()`.\n",
        "\n",
        "### Insights or Next Steps\n",
        "\n",
        "*   Understanding the mutability of lists is crucial as in-place operations like `sort()` and `reverse()` modify the original list directly.\n",
        "*   Explore the time complexity of different list operations, especially for large lists, to understand their performance implications.\n"
      ]
    }
  ]
}